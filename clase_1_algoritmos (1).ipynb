{
  "nbformat": 4,
  "nbformat_minor": 0,
  "metadata": {
    "colab": {
      "provenance": []
    },
    "kernelspec": {
      "name": "python3",
      "display_name": "Python 3"
    },
    "language_info": {
      "name": "python"
    }
  },
  "cells": [
    {
      "cell_type": "markdown",
      "source": [
        "#Introducciòn a Python\n",
        "Python es un lenguaje de programación de alto nivel, de propósito general y muy popular. \"Alto nivel\" significa que es relativamente fácil de leer y escribir para los humanos, en comparación con los lenguajes de \"bajo nivel\" que son más cercanos al lenguaje de la máquina. \"Propósito general\" significa que puede usarse para una amplia variedad de tareas, desde desarrollo web hasta análisis de datos y aprendizaje automático.\n"
      ],
      "metadata": {
        "id": "C27qq8J_oLny"
      }
    },
    {
      "cell_type": "markdown",
      "source": [
        "##Listas\n",
        "una lista es un objeto de la forma\n",
        "\n",
        "$$ Lista= [e_1,e_2,...,e_n] $$\n",
        "\n",
        "cada elemento puede ser ,a su vez,un objeto\n",
        "\n",
        "\n"
      ],
      "metadata": {
        "id": "0Z56Sr-9V42m"
      }
    },
    {
      "cell_type": "markdown",
      "source": [
        "## vamos a crear una lista\n",
        "\n",
        "lista =[7,7.7,\"emiliano\"[1,2,3]\n"
      ],
      "metadata": {
        "id": "k4quDrZSXhP6"
      }
    },
    {
      "cell_type": "code",
      "source": [
        "# vamos a crear una lista\n",
        "lista =[7,7.7,\"emiliano\",[1,2,3]]\n"
      ],
      "metadata": {
        "id": "d4i7RKahY_Bi"
      },
      "execution_count": null,
      "outputs": []
    },
    {
      "cell_type": "code",
      "source": [
        "type(lista)"
      ],
      "metadata": {
        "colab": {
          "base_uri": "https://localhost:8080/"
        },
        "id": "I0jRXCXiZKl_",
        "outputId": "da8640c9-ecf4-4e8a-9d31-da87243b12b3"
      },
      "execution_count": null,
      "outputs": [
        {
          "output_type": "execute_result",
          "data": {
            "text/plain": [
              "list"
            ]
          },
          "metadata": {},
          "execution_count": 2
        }
      ]
    },
    {
      "cell_type": "code",
      "source": [
        "lista\n"
      ],
      "metadata": {
        "colab": {
          "base_uri": "https://localhost:8080/"
        },
        "id": "gQR_uNutZQfV",
        "outputId": "c811acc4-1b44-4eaa-8976-0b185f7a427e"
      },
      "execution_count": null,
      "outputs": [
        {
          "output_type": "execute_result",
          "data": {
            "text/plain": [
              "[7, 7.7, 'emiliano', [1, 2, 3]]"
            ]
          },
          "metadata": {},
          "execution_count": 3
        }
      ]
    },
    {
      "cell_type": "markdown",
      "source": [
        "## Algunos objetos en Python\n",
        "### Numeros y Strings  \n",
        "\n",
        "\n",
        "1.   int,float\n",
        "2.   str\n",
        "\n",
        "Operaciones basicas entre numeros\n",
        "\n",
        "1.   $+,-$\n",
        "2.   $*,**$ potenciacion\n",
        "3.   $/,//$ division y division al piso redondea hacia abajo\n",
        "4.   $ \\% $ operacion modular\n",
        "\n",
        "###python tiene funciones integradas\n",
        "\n",
        "\n",
        "1.   print\n",
        "2.   type\n",
        "\n",
        "\n",
        "\n",
        "\n"
      ],
      "metadata": {
        "id": "uxs12mwOp-l6"
      }
    },
    {
      "cell_type": "code",
      "source": [
        "len(lista)#esta funcion len() cuenta el numero de elementos que hay en la lista"
      ],
      "metadata": {
        "colab": {
          "base_uri": "https://localhost:8080/"
        },
        "id": "XwWoatZsgu1j",
        "outputId": "2c194e43-e08d-4e8a-c829-d21d63faff11"
      },
      "execution_count": null,
      "outputs": [
        {
          "output_type": "execute_result",
          "data": {
            "text/plain": [
              "4"
            ]
          },
          "metadata": {},
          "execution_count": 4
        }
      ]
    },
    {
      "cell_type": "markdown",
      "source": [],
      "metadata": {
        "id": "1UCIBu5NhfHe"
      }
    },
    {
      "cell_type": "code",
      "source": [
        "lista[2],type(lista[2])"
      ],
      "metadata": {
        "colab": {
          "base_uri": "https://localhost:8080/"
        },
        "id": "xwzqiw29hfWX",
        "outputId": "5fc817b9-da5c-4538-de3e-d78bd43a5508"
      },
      "execution_count": null,
      "outputs": [
        {
          "output_type": "execute_result",
          "data": {
            "text/plain": [
              "('emiliano', str)"
            ]
          },
          "metadata": {},
          "execution_count": 5
        }
      ]
    },
    {
      "cell_type": "code",
      "source": [
        "range(2,57)"
      ],
      "metadata": {
        "colab": {
          "base_uri": "https://localhost:8080/"
        },
        "id": "A2hvcuJeaYh9",
        "outputId": "459e1d6d-2573-4828-d385-c93a0bbae83f"
      },
      "execution_count": null,
      "outputs": [
        {
          "output_type": "execute_result",
          "data": {
            "text/plain": [
              "range(2, 57)"
            ]
          },
          "metadata": {},
          "execution_count": 6
        }
      ]
    },
    {
      "cell_type": "code",
      "source": [
        "lista[3],type(lista[3])"
      ],
      "metadata": {
        "colab": {
          "base_uri": "https://localhost:8080/"
        },
        "id": "gOd5kv_ch-SG",
        "outputId": "a55be38a-5cac-4f1e-b8e4-e341c9361e40"
      },
      "execution_count": null,
      "outputs": [
        {
          "output_type": "execute_result",
          "data": {
            "text/plain": [
              "([1, 2, 3], list)"
            ]
          },
          "metadata": {},
          "execution_count": 7
        }
      ]
    },
    {
      "cell_type": "code",
      "source": [
        "type(range(57))#Generador de indices (o etiquetas)"
      ],
      "metadata": {
        "colab": {
          "base_uri": "https://localhost:8080/"
        },
        "id": "2jwp7I5EasAJ",
        "outputId": "faa15488-2eb9-4635-d547-5cba5c1cd4d6"
      },
      "execution_count": null,
      "outputs": [
        {
          "output_type": "execute_result",
          "data": {
            "text/plain": [
              "range"
            ]
          },
          "metadata": {},
          "execution_count": 8
        }
      ]
    },
    {
      "cell_type": "code",
      "source": [
        "lista[0:2]"
      ],
      "metadata": {
        "colab": {
          "base_uri": "https://localhost:8080/"
        },
        "id": "9FFY-FgHieG8",
        "outputId": "78f2a666-3a97-40b3-b4db-893ac24b356a"
      },
      "execution_count": null,
      "outputs": [
        {
          "output_type": "execute_result",
          "data": {
            "text/plain": [
              "[7, 7.7]"
            ]
          },
          "metadata": {},
          "execution_count": 9
        }
      ]
    },
    {
      "cell_type": "code",
      "source": [
        "lista[1:2]"
      ],
      "metadata": {
        "colab": {
          "base_uri": "https://localhost:8080/"
        },
        "id": "LkR3NvGsiyem",
        "outputId": "0410e45a-d08c-482b-b533-4b3982dde662"
      },
      "execution_count": null,
      "outputs": [
        {
          "output_type": "execute_result",
          "data": {
            "text/plain": [
              "[7.7]"
            ]
          },
          "metadata": {},
          "execution_count": 10
        }
      ]
    },
    {
      "cell_type": "code",
      "source": [
        "lista[3][0]"
      ],
      "metadata": {
        "colab": {
          "base_uri": "https://localhost:8080/"
        },
        "id": "6Ypy9z1pi5EL",
        "outputId": "bb0b1fac-187b-4fbd-8157-b401f8b3ce8e"
      },
      "execution_count": null,
      "outputs": [
        {
          "output_type": "execute_result",
          "data": {
            "text/plain": [
              "1"
            ]
          },
          "metadata": {},
          "execution_count": 11
        }
      ]
    },
    {
      "cell_type": "markdown",
      "source": [
        "### etiqutas en python\n",
        "\n",
        "en python existe una funcion que se llama 'range(a,b)'\n",
        "en donde $a$ y $b$ son enteros mayores o igaules a 0 . aqui $a<b$\n",
        "\n"
      ],
      "metadata": {
        "id": "-C6yiZBbZdcd"
      }
    },
    {
      "cell_type": "markdown",
      "source": [],
      "metadata": {
        "id": "TICi1CCnerj5"
      }
    },
    {
      "cell_type": "code",
      "source": [
        "for i in range(1,57):\n",
        "  print(i)"
      ],
      "metadata": {
        "colab": {
          "base_uri": "https://localhost:8080/"
        },
        "id": "k_u5hh0RbV_C",
        "outputId": "6d07187b-430d-4f4e-b54f-40fe696b0608"
      },
      "execution_count": null,
      "outputs": [
        {
          "output_type": "stream",
          "name": "stdout",
          "text": [
            "1\n",
            "2\n",
            "3\n",
            "4\n",
            "5\n",
            "6\n",
            "7\n",
            "8\n",
            "9\n",
            "10\n",
            "11\n",
            "12\n",
            "13\n",
            "14\n",
            "15\n",
            "16\n",
            "17\n",
            "18\n",
            "19\n",
            "20\n",
            "21\n",
            "22\n",
            "23\n",
            "24\n",
            "25\n",
            "26\n",
            "27\n",
            "28\n",
            "29\n",
            "30\n",
            "31\n",
            "32\n",
            "33\n",
            "34\n",
            "35\n",
            "36\n",
            "37\n",
            "38\n",
            "39\n",
            "40\n",
            "41\n",
            "42\n",
            "43\n",
            "44\n",
            "45\n",
            "46\n",
            "47\n",
            "48\n",
            "49\n",
            "50\n",
            "51\n",
            "52\n",
            "53\n",
            "54\n",
            "55\n",
            "56\n"
          ]
        }
      ]
    },
    {
      "cell_type": "code",
      "source": [
        "#vamos a crear dos variables enteros\n",
        "x=5\n",
        "y=2"
      ],
      "metadata": {
        "id": "bceJ4rVxylDf"
      },
      "execution_count": null,
      "outputs": []
    },
    {
      "cell_type": "code",
      "source": [
        "print(\"hola mundo\")"
      ],
      "metadata": {
        "colab": {
          "base_uri": "https://localhost:8080/"
        },
        "id": "NcQI25TVzP53",
        "outputId": "3bddf527-5d8e-440a-bf3d-757bb40dfb7d"
      },
      "execution_count": null,
      "outputs": [
        {
          "output_type": "stream",
          "name": "stdout",
          "text": [
            "hola mundo\n"
          ]
        }
      ]
    },
    {
      "cell_type": "code",
      "source": [
        "print(f\"El residuo de dividir {x} entre {y} es {x%y}\")\n",
        "\n",
        "\n"
      ],
      "metadata": {
        "colab": {
          "base_uri": "https://localhost:8080/"
        },
        "id": "T_8FA1So0iUU",
        "outputId": "d27c6431-1a95-4da8-ebd7-55cfd7e3268c"
      },
      "execution_count": null,
      "outputs": [
        {
          "output_type": "stream",
          "name": "stdout",
          "text": [
            "El residuo de dividir 5 entre 2 es 1\n"
          ]
        }
      ]
    },
    {
      "cell_type": "markdown",
      "source": [
        "es posible escribir en latex\n",
        "\n",
        "las siguiente integral es de gran importancia\n",
        "\n",
        "$$\\int_{-\\infty}^{\\infty}e^{-\\frac{x^2}{2}}dx=\\sqrt{2\\pi}\n",
        "$$"
      ],
      "metadata": {
        "id": "NxZKYL_Lsb8q"
      }
    },
    {
      "cell_type": "code",
      "source": [
        "5%2"
      ],
      "metadata": {
        "colab": {
          "base_uri": "https://localhost:8080/"
        },
        "id": "28gvzMVHxbJe",
        "outputId": "0edaa629-d4c1-40a9-ace1-9f1ba6da3ab6"
      },
      "execution_count": null,
      "outputs": [
        {
          "output_type": "execute_result",
          "data": {
            "text/plain": [
              "1"
            ]
          },
          "metadata": {},
          "execution_count": 18
        }
      ]
    },
    {
      "cell_type": "code",
      "source": [
        "5+5"
      ],
      "metadata": {
        "colab": {
          "base_uri": "https://localhost:8080/"
        },
        "id": "aZ0kmrUYv0b9",
        "outputId": "6f0b6990-b1fd-469c-867c-a1a129333563"
      },
      "execution_count": null,
      "outputs": [
        {
          "output_type": "execute_result",
          "data": {
            "text/plain": [
              "10"
            ]
          },
          "metadata": {},
          "execution_count": 19
        }
      ]
    },
    {
      "cell_type": "code",
      "source": [
        "5-5\n"
      ],
      "metadata": {
        "colab": {
          "base_uri": "https://localhost:8080/"
        },
        "id": "OytTqa2twISj",
        "outputId": "2189d3e5-0a33-4fae-a1d3-97cb0929a054"
      },
      "execution_count": null,
      "outputs": [
        {
          "output_type": "execute_result",
          "data": {
            "text/plain": [
              "0"
            ]
          },
          "metadata": {},
          "execution_count": 20
        }
      ]
    },
    {
      "cell_type": "code",
      "source": [
        "lista[2]"
      ],
      "metadata": {
        "colab": {
          "base_uri": "https://localhost:8080/",
          "height": 36
        },
        "id": "y1aBdBlQsUir",
        "outputId": "7dd8f184-6697-4c38-8e74-424ec8d17241"
      },
      "execution_count": null,
      "outputs": [
        {
          "output_type": "execute_result",
          "data": {
            "text/plain": [
              "'emiliano'"
            ],
            "application/vnd.google.colaboratory.intrinsic+json": {
              "type": "string"
            }
          },
          "metadata": {},
          "execution_count": 22
        }
      ]
    },
    {
      "cell_type": "code",
      "source": [
        "lista[3]"
      ],
      "metadata": {
        "colab": {
          "base_uri": "https://localhost:8080/"
        },
        "id": "C4g97x53sc9m",
        "outputId": "c9028c92-6da4-483f-8658-cc01f1e133ce"
      },
      "execution_count": null,
      "outputs": [
        {
          "output_type": "execute_result",
          "data": {
            "text/plain": [
              "[1, 2, 3]"
            ]
          },
          "metadata": {},
          "execution_count": 23
        }
      ]
    },
    {
      "cell_type": "markdown",
      "source": [
        "### Atributos de las listas\n",
        "\n",
        "Lista. append(\"estella\")"
      ],
      "metadata": {
        "id": "qu5w2ZUXtFpg"
      }
    },
    {
      "cell_type": "code",
      "source": [
        "lista.append(\"estella\")"
      ],
      "metadata": {
        "id": "ttcZ8O6Xty9m"
      },
      "execution_count": null,
      "outputs": []
    },
    {
      "cell_type": "markdown",
      "source": [
        "$a\\in A$"
      ],
      "metadata": {
        "id": "I0WTUPoewjjQ"
      }
    },
    {
      "cell_type": "code",
      "source": [
        "lista = [i for i in range(21)]"
      ],
      "metadata": {
        "id": "59Oj9rynwz0O"
      },
      "execution_count": null,
      "outputs": []
    },
    {
      "cell_type": "code",
      "source": [
        "M=[x for x in range(21)if x%3==0] #dividir"
      ],
      "metadata": {
        "id": "-ISS34D6xYbn"
      },
      "execution_count": null,
      "outputs": []
    },
    {
      "cell_type": "code",
      "source": [
        "lista[0:6] #slice"
      ],
      "metadata": {
        "colab": {
          "base_uri": "https://localhost:8080/"
        },
        "id": "1qefPRh4yRtc",
        "outputId": "4223af4d-9895-4e66-a244-3865ae996f2c"
      },
      "execution_count": null,
      "outputs": [
        {
          "output_type": "execute_result",
          "data": {
            "text/plain": [
              "[0, 1, 2, 3, 4, 5]"
            ]
          },
          "metadata": {},
          "execution_count": 51
        }
      ]
    },
    {
      "cell_type": "code",
      "source": [
        "lista[0::20] #extremos de la lista"
      ],
      "metadata": {
        "colab": {
          "base_uri": "https://localhost:8080/"
        },
        "id": "6z4eSoBmyp_v",
        "outputId": "56d5701a-678d-4426-e34c-a0c403da7c53"
      },
      "execution_count": null,
      "outputs": [
        {
          "output_type": "execute_result",
          "data": {
            "text/plain": [
              "[0, 20]"
            ]
          },
          "metadata": {},
          "execution_count": 53
        }
      ]
    },
    {
      "cell_type": "code",
      "source": [],
      "metadata": {
        "id": "qIa7uvaQzGWN"
      },
      "execution_count": null,
      "outputs": []
    }
  ]
}